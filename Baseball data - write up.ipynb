{
 "cells": [
  {
   "cell_type": "markdown",
   "metadata": {},
   "source": [
    "# Data Visualization\n",
    "\n",
    "## Introduction\n",
    "\n",
    "Explanatory Visualization has been done on a baseball dataset to explain the relationship among different factors of data.Tableau Framework has been used to find new insights on the performance of players and represent it as a visualization.\n",
    "\n",
    "First Visualization : https://public.tableau.com/views/BaseballV1_0/Sheet4?:embed=y&:display_count=yes&publish=yes\n",
    "\n",
    "Final Visualization : https://public.tableau.com/views/BaseballV2_1/Story1?:embed=y&:display_count=yes&publish=yes\n",
    "\n",
    "\n",
    "## Summary\n",
    "\n",
    "Many relationships have been explored among different factors such as Handedness, Height, Home run, Batting Average and BMI Category. New Factors BMI ( Body Mass Index) and BMI Category have been created to explore new insights.\n",
    "\n",
    "BMI in BMI Category has been categorised as follows:\n",
    "\n",
    "<ul>\n",
    "<ol>1) Underweight</ol> \n",
    "<ol>2) Normal</ol>\n",
    "<ol>3) Overweight</ol>\n",
    "<ol>4) Obese</ol>\n",
    "</ul>\n",
    "\n",
    "Various Tableau techniques have been used to again an insight on the performance of the players based on Handedness, Height and BMI. \n",
    "\n",
    "In conclusion, many of the players are righthanded but players with lefthandedness showed a slightly higher level of performance in terms of Average Home run and Batting Average in all categories of BMI and at various heights, accept after 72 inches of height where players with both handedness suddenly rise to peak.This could be due to very few number of players after the height of 72 inches who all played well.Right handed players always showed lower performance when compared to other two handedness under comparison of all factor like height and BMI Category.\n",
    "\n",
    "\n",
    "## Design\n",
    "\n",
    "   Initial Design  -  Initially the chart type and format settings for all the axis and plots were set to default.No changes were made to any variables.A \"Handedness\" filter was added to all the charts and the charts were displayed correctly.\n",
    "\n",
    "   Final Design  -  Axis labels were modified to represent the information clearly and \"Handedness\" filter has been removed from the second and third chart as they were not required and the labelling provides enough information regarding the player's handedness. Color encoding was used to signify the difference in handedness in the required charts and red color has been changed to a different color where ever possible in the color filter taking consideration of color blindness.\n",
    "  \n",
    " \n",
    "## Feedback\n",
    "\n",
    "\n",
    "<ul>\n",
    "<ol>1) X and Y Axis required proper labelling</ol> \n",
    "<ol>2) \"Handedness\" is represented in more than one way ( label and color) </ol>\n",
    "<ol>3) Try to avoid Red, Green and Yellow colors considering color blindness.</ol>\n",
    "</ul>\n",
    "\n",
    "\n",
    "## Resources\n",
    "\n",
    "https://www.tableau.com/learn/training\n",
    "\n",
    "\n",
    "\n",
    "\n",
    "\n",
    "\n",
    "\n"
   ]
  }
 ],
 "metadata": {
  "kernelspec": {
   "display_name": "Python 3",
   "language": "python",
   "name": "python3"
  },
  "language_info": {
   "codemirror_mode": {
    "name": "ipython",
    "version": 3
   },
   "file_extension": ".py",
   "mimetype": "text/x-python",
   "name": "python",
   "nbconvert_exporter": "python",
   "pygments_lexer": "ipython3",
   "version": "3.6.2"
  }
 },
 "nbformat": 4,
 "nbformat_minor": 2
}
